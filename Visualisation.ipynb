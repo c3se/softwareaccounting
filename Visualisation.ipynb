{
 "cells": [
  {
   "cell_type": "markdown",
   "metadata": {},
   "source": [
    "# Load SAMS database"
   ]
  },
  {
   "cell_type": "code",
   "execution_count": null,
   "metadata": {},
   "outputs": [],
   "source": [
    "filename = 'sa-0.db'\n",
    "start_time = '2019-01-01'\n",
    "end_time   = '2019-01-15'"
   ]
  },
  {
   "cell_type": "markdown",
   "metadata": {},
   "source": [
    "## Using `sams-reporter-pandas` to get Pandas dataframe `df`"
   ]
  },
  {
   "cell_type": "code",
   "execution_count": null,
   "metadata": {},
   "outputs": [],
   "source": [
    "# This is a workaround to import modules with \"-\" in the name \n",
    "\n",
    "tmp = __import__(\"sams-reporter-pandas\")\n",
    "globals().update(vars(tmp))\n",
    "\n",
    "# ToDo: Refactor SAMSSoftwareAccountingDB class to take kwargs instead of args from argparse\n",
    "\n",
    "class dummy(object):\n",
    "    def __init__(self): pass\n",
    "    \n",
    "args = dummy()\n",
    "args.begin = dateutil.parser.parse(start_time)\n",
    "args.end = dateutil.parser.parse(end_time)\n",
    "args.filename = filename\n",
    "args.verbose = True\n",
    "args.user, args.ignore_user = [], []\n",
    "args.project, args.ignore_project = [], []\n",
    "args.software, args.ignore_software = [], []\n",
    "\n",
    "sdb = SAMSSoftwareAccountingDB(args)\n",
    "df = sdb.get_pandas_data_frame()\n",
    "print('done.')"
   ]
  },
  {
   "cell_type": "markdown",
   "metadata": {},
   "source": [
    "## Visualization helpers"
   ]
  },
  {
   "cell_type": "code",
   "execution_count": null,
   "metadata": {},
   "outputs": [],
   "source": [
    "import numpy as np\n",
    "import matplotlib.pyplot as plt\n",
    "\n",
    "def take_n_largest(series, n=10, rest_label='other'):\n",
    "    large = series.nlargest(n)\n",
    "    small = series.drop(large.index)\n",
    "    series = large\n",
    "    series[rest_label] = small.sum()\n",
    "    return series\n",
    "\n",
    "def aggregate_df(df, groupby='name', agg_key='total_time', drop=[], take_n=False):\n",
    "    df_agg = df.groupby([groupby]).agg({agg_key : 'sum'})\n",
    "    s = df_agg[agg_key].sort_values()\n",
    "    s = s.drop(drop)\n",
    "    if take_n: \n",
    "        s = take_n_largest(s, n=take_n)\n",
    "        s = s[::-1]\n",
    "    return s\n",
    "\n",
    "def plot_bar_graph(s, start_time, end_time):\n",
    "    plt.figure(figsize=(12,6))\n",
    "    plt.title(f'Usage from {start_time} to {end_time}.')\n",
    "    y_pos = np.arange(len(s))\n",
    "    plt.barh(y_pos, s.values)\n",
    "    plt.yticks(y_pos, s.index)\n",
    "    plt.xlabel('Core-hours')\n",
    "    plt.grid(True, axis='x')\n",
    "    plt.semilogx([],[])"
   ]
  },
  {
   "cell_type": "markdown",
   "metadata": {},
   "source": [
    "# Total usage"
   ]
  },
  {
   "cell_type": "code",
   "execution_count": null,
   "metadata": {},
   "outputs": [],
   "source": [
    "s = aggregate_df(\n",
    "    df, groupby='name', agg_key='cpu_time', \n",
    "    drop=['system', 'user', 'group', 'impi', 'OpenMPI'], take_n=12)\n",
    "plot_bar_graph(s, start_time, end_time)\n",
    "\n",
    "s = aggregate_df(df, groupby='project', agg_key='cpu_time', take_n=25)\n",
    "plot_bar_graph(s, start_time, end_time)\n",
    "\n",
    "s = aggregate_df(df, groupby='username', agg_key='cpu_time', take_n=25)\n",
    "plot_bar_graph(s, start_time, end_time)"
   ]
  },
  {
   "cell_type": "markdown",
   "metadata": {},
   "source": [
    "# Project usage"
   ]
  },
  {
   "cell_type": "code",
   "execution_count": null,
   "metadata": {},
   "outputs": [],
   "source": [
    "project = 'c3se2019-1-1'\n",
    "\n",
    "pdf = df[df['project'] == project]\n",
    "users = aggregate_df(pdf, groupby='username', agg_key='cpu_time', take_n=0)\n",
    "software = aggregate_df(pdf, groupby='name', agg_key='cpu_time', take_n=12)\n",
    "\n",
    "print(f'Core-hours per user from {start_time} to {end_time}\\n')\n",
    "print(users[::-1])\n",
    "print(f'\\nTotal usage by project \"{project}\": {users.sum():E} core-hours')\n",
    "\n",
    "plot_bar_graph(users, start_time, end_time)\n",
    "plot_bar_graph(software, start_time, end_time)"
   ]
  }
 ],
 "metadata": {
  "kernelspec": {
   "display_name": "Python 3",
   "language": "python",
   "name": "python3"
  },
  "language_info": {
   "codemirror_mode": {
    "name": "ipython",
    "version": 3
   },
   "file_extension": ".py",
   "mimetype": "text/x-python",
   "name": "python",
   "nbconvert_exporter": "python",
   "pygments_lexer": "ipython3",
   "version": "3.7.6"
  }
 },
 "nbformat": 4,
 "nbformat_minor": 4
}
